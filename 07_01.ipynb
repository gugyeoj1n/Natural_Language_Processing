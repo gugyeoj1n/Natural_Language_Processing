{
  "nbformat": 4,
  "nbformat_minor": 0,
  "metadata": {
    "colab": {
      "name": "Untitled17.ipynb",
      "provenance": [],
      "authorship_tag": "ABX9TyP0ai2bb/4TZ5avg+8JVEHo",
      "include_colab_link": true
    },
    "kernelspec": {
      "name": "python3",
      "display_name": "Python 3"
    },
    "language_info": {
      "name": "python"
    }
  },
  "cells": [
    {
      "cell_type": "markdown",
      "metadata": {
        "id": "view-in-github",
        "colab_type": "text"
      },
      "source": [
        "<a href=\"https://colab.research.google.com/github/gugyeoj1n/Natural_Language_Processing/blob/main/07_01.ipynb\" target=\"_parent\"><img src=\"https://colab.research.google.com/assets/colab-badge.svg\" alt=\"Open In Colab\"/></a>"
      ]
    },
    {
      "cell_type": "code",
      "execution_count": 6,
      "metadata": {
        "colab": {
          "base_uri": "https://localhost:8080/"
        },
        "id": "8gNkVrjZ2kY6",
        "outputId": "4ef94d76-48d2-4ac4-bcbf-287a1e3b82d1"
      },
      "outputs": [
        {
          "output_type": "stream",
          "name": "stdout",
          "text": [
            "AND gate :  0  NAND gate :  1  OR gate :  0  XOR gate :  0\n",
            "AND gate :  0  NAND gate :  1  OR gate :  1  XOR gate :  1\n",
            "AND gate :  0  NAND gate :  1  OR gate :  1  XOR gate :  1\n",
            "AND gate :  1  NAND gate :  0  OR gate :  1  XOR gate :  0\n"
          ]
        }
      ],
      "source": [
        "def AND_gate(x1, x2) : # 둘 다 1일 때\n",
        "  w1, w2, b = 0.5, 0.5, -0.7\n",
        "  return 0 if (x1 * w1 + x2 * w2 + b) <= 0 else 1\n",
        "\n",
        "def NAND_gate(x1, x2) : # 둘 다 0일 때\n",
        "  w1, w2, b = -0.5, -0.5, 0.7\n",
        "  return 0 if (x1 * w1 + x2 * w2 + b) <= 0 else 1\n",
        "\n",
        "def OR_gate(x1, x2) : # 하나 이상이 1일 때\n",
        "  w1, w2, b = 0.7, 0.7, -0.5\n",
        "  return 0 if (x1 * w1 + x2 * w2 + b) <= 0 else 1\n",
        "\n",
        "def XOR_gate(x1, x2) : # 0, 1 또는 1, 0일 때\n",
        "  NAND_res, OR_res = NAND_gate(x1, x2), OR_gate(x1, x2)\n",
        "  return AND_gate(NAND_res, OR_res)\n",
        "\n",
        "for i in range(2) :\n",
        "  for j in range(2) :\n",
        "    print(\"AND gate : \", AND_gate(i, j), end=\"  \")\n",
        "    print(\"NAND gate : \", NAND_gate(i, j),end=\"  \")\n",
        "    print(\"OR gate : \", OR_gate(i, j), end=\"  \")\n",
        "    print(\"XOR gate : \", XOR_gate(i, j))"
      ]
    }
  ]
}