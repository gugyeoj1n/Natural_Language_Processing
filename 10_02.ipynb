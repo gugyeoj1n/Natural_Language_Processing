{
  "nbformat": 4,
  "nbformat_minor": 0,
  "metadata": {
    "colab": {
      "name": "Untitled23.ipynb",
      "provenance": [],
      "mount_file_id": "1sccZdxUvZipctv9u_7yblGX6-xhaZNz8",
      "authorship_tag": "ABX9TyN1y2CsWRTvWrgtxHGLZYs/",
      "include_colab_link": true
    },
    "kernelspec": {
      "name": "python3",
      "display_name": "Python 3"
    },
    "language_info": {
      "name": "python"
    }
  },
  "cells": [
    {
      "cell_type": "markdown",
      "metadata": {
        "id": "view-in-github",
        "colab_type": "text"
      },
      "source": [
        "<a href=\"https://colab.research.google.com/github/gugyeoj1n/Natural_Language_Processing/blob/main/10_02.ipynb\" target=\"_parent\"><img src=\"https://colab.research.google.com/assets/colab-badge.svg\" alt=\"Open In Colab\"/></a>"
      ]
    },
    {
      "cell_type": "code",
      "source": [
        "import numpy as np\n",
        "import pandas as pd\n",
        "import matplotlib.pyplot as plt\n",
        "import urllib.request\n",
        "from sklearn.model_selection import train_test_split\n",
        "from tensorflow.keras.preprocessing.text import Tokenizer\n",
        "from tensorflow.keras.preprocessing.sequence import pad_sequences\n",
        "\n",
        "urllib.request.urlretrieve(\"https://raw.githubusercontent.com/ukairia777/tensorflow-nlp-tutorial/main/10.%20RNN%20Text%20Classification/dataset/spam.csv\", filename=\"spam.csv\")\n",
        "data = pd.read_csv('/content/drive/MyDrive/NLP_colab/spam.csv', encoding='latin1')\n",
        "print('총 샘플의 수 :',len(data))\n",
        "print(data[:5])"
      ],
      "metadata": {
        "colab": {
          "base_uri": "https://localhost:8080/"
        },
        "id": "FvZW5sDfKq9c",
        "outputId": "3f58c1cd-2168-424c-eaa4-5520956a2517"
      },
      "execution_count": 10,
      "outputs": [
        {
          "output_type": "stream",
          "name": "stdout",
          "text": [
            "총 샘플의 수 : 5572\n",
            "     v1                                                 v2 Unnamed: 2  \\\n",
            "0   ham  Go until jurong point, crazy.. Available only ...        NaN   \n",
            "1   ham                      Ok lar... Joking wif u oni...        NaN   \n",
            "2  spam  Free entry in 2 a wkly comp to win FA Cup fina...        NaN   \n",
            "3   ham  U dun say so early hor... U c already then say...        NaN   \n",
            "4   ham  Nah I don't think he goes to usf, he lives aro...        NaN   \n",
            "\n",
            "  Unnamed: 3 Unnamed: 4  \n",
            "0        NaN        NaN  \n",
            "1        NaN        NaN  \n",
            "2        NaN        NaN  \n",
            "3        NaN        NaN  \n",
            "4        NaN        NaN  \n"
          ]
        }
      ]
    },
    {
      "cell_type": "code",
      "source": [
        "del data['Unnamed: 2']\n",
        "del data['Unnamed: 3']\n",
        "del data['Unnamed: 4']\n",
        "data['v1'] = data['v1'].replace(['ham','spam'],[0,1])"
      ],
      "metadata": {
        "id": "NAS_NzQvK4yI"
      },
      "execution_count": null,
      "outputs": []
    },
    {
      "cell_type": "code",
      "source": [
        "data.drop_duplicates(subset=\"v2\", inplace=True)"
      ],
      "metadata": {
        "id": "a-L9Svs9LM0F"
      },
      "execution_count": 13,
      "outputs": []
    },
    {
      "cell_type": "code",
      "source": [
        "print(data.groupby('v1').size().reset_index(name='cnt'))"
      ],
      "metadata": {
        "colab": {
          "base_uri": "https://localhost:8080/"
        },
        "id": "cNE2DMA7LQis",
        "outputId": "82a7e1c3-40ae-418a-80f3-5017c267f32c"
      },
      "execution_count": 14,
      "outputs": [
        {
          "output_type": "stream",
          "name": "stdout",
          "text": [
            "   v1   cnt\n",
            "0   0  4516\n",
            "1   1   653\n"
          ]
        }
      ]
    },
    {
      "cell_type": "code",
      "source": [
        "X_data, y_data = data['v2'], data['v1']\n",
        "X_train, X_test, y_train, y_test = train_test_split(X_data, y_data, test_size=0.2, random_state=0, stratify=y_data)"
      ],
      "metadata": {
        "id": "CtxzKNICLb5l"
      },
      "execution_count": 15,
      "outputs": []
    },
    {
      "cell_type": "code",
      "source": [
        "tokenizer = Tokenizer()\n",
        "tokenizer.fit_on_texts(X_train)\n",
        "X_train_encoded = tokenizer.texts_to_sequences(X_train)"
      ],
      "metadata": {
        "id": "-RHVySKnLrlN"
      },
      "execution_count": 16,
      "outputs": []
    },
    {
      "cell_type": "code",
      "source": [
        "word_to_index = tokenizer.word_index\n",
        "vocab_size = len(word_to_index) + 1\n",
        "max_len = max(len(l) for l in X_train_encoded)\n",
        "\n",
        "X_train_padded = pad_sequences(X_train_encoded, maxlen=max_len)"
      ],
      "metadata": {
        "id": "tf8OYE7mL4mN"
      },
      "execution_count": 17,
      "outputs": []
    },
    {
      "cell_type": "code",
      "source": [
        "from tensorflow.keras.layers import SimpleRNN, Embedding, Dense\n",
        "from tensorflow.keras.models import Sequential\n",
        "\n",
        "embedding_dim = 32\n",
        "hidden_units = 32\n",
        "\n",
        "model = Sequential()\n",
        "model.add(Embedding(vocab_size, embedding_dim))\n",
        "model.add(SimpleRNN(hidden_units))\n",
        "model.add(Dense(1, activation='sigmoid'))\n",
        "\n",
        "model.compile(optimizer='rmsprop', loss='binary_crossentropy', metrics=['acc'])\n",
        "history = model.fit(X_train_padded, y_train, epochs=4, batch_size=64, validation_split=0.2)"
      ],
      "metadata": {
        "colab": {
          "base_uri": "https://localhost:8080/"
        },
        "id": "-Z2a_CkhMWMW",
        "outputId": "6ff60ca7-1ea6-499b-897c-17e04c95e60e"
      },
      "execution_count": 20,
      "outputs": [
        {
          "output_type": "stream",
          "name": "stdout",
          "text": [
            "Epoch 1/4\n",
            "52/52 [==============================] - 4s 47ms/step - loss: 0.3480 - acc: 0.9027 - val_loss: 0.1786 - val_acc: 0.9686\n",
            "Epoch 2/4\n",
            "52/52 [==============================] - 2s 42ms/step - loss: 0.1284 - acc: 0.9683 - val_loss: 0.1057 - val_acc: 0.9686\n",
            "Epoch 3/4\n",
            "52/52 [==============================] - 2s 46ms/step - loss: 0.0716 - acc: 0.9810 - val_loss: 0.1027 - val_acc: 0.9674\n",
            "Epoch 4/4\n",
            "52/52 [==============================] - 2s 42ms/step - loss: 0.2956 - acc: 0.8894 - val_loss: 1.1129 - val_acc: 0.5163\n"
          ]
        }
      ]
    },
    {
      "cell_type": "code",
      "source": [
        "X_test_encoded = tokenizer.texts_to_sequences(X_test)\n",
        "X_test_padded = pad_sequences(X_test_encoded, maxlen = max_len)\n",
        "print(\"\\n 테스트 정확도: %.4f\" % (model.evaluate(X_test_padded, y_test)[1]))"
      ],
      "metadata": {
        "colab": {
          "base_uri": "https://localhost:8080/"
        },
        "id": "hOu_8-IIMtnO",
        "outputId": "04de449d-e6fc-4831-f9f6-15eb3c354d70"
      },
      "execution_count": 21,
      "outputs": [
        {
          "output_type": "stream",
          "name": "stdout",
          "text": [
            "33/33 [==============================] - 1s 19ms/step - loss: 1.2186 - acc: 0.4807\n",
            "\n",
            " 테스트 정확도: 0.4807\n"
          ]
        }
      ]
    }
  ]
}