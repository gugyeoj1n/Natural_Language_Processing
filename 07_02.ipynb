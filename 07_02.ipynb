{
  "nbformat": 4,
  "nbformat_minor": 0,
  "metadata": {
    "colab": {
      "name": "Untitled17.ipynb",
      "provenance": [],
      "authorship_tag": "ABX9TyMI+GIYRhZC1kcZhvKmpxCY",
      "include_colab_link": true
    },
    "kernelspec": {
      "name": "python3",
      "display_name": "Python 3"
    },
    "language_info": {
      "name": "python"
    }
  },
  "cells": [
    {
      "cell_type": "markdown",
      "metadata": {
        "id": "view-in-github",
        "colab_type": "text"
      },
      "source": [
        "<a href=\"https://colab.research.google.com/github/gugyeoj1n/Natural_Language_Processing/blob/main/07_02.ipynb\" target=\"_parent\"><img src=\"https://colab.research.google.com/assets/colab-badge.svg\" alt=\"Open In Colab\"/></a>"
      ]
    },
    {
      "cell_type": "code",
      "source": [
        "import numpy as np\n",
        "import matplotlib.pyplot as plt\n",
        "\n",
        "def step(X) :\n",
        "  return np.array(X > 0, dtype=np.int)\n",
        "x = np.arange(-5.0, 5, 0.1)\n",
        "y = step(x)\n",
        "plt.plot(x, y)\n",
        "\n",
        "def sigmoid(X) :\n",
        "  return 1 / (1 + np.exp(-X))\n",
        "\n",
        "y = sigmoid(x)\n",
        "plt.plot(x, y)\n",
        "\n",
        "y = np.tanh(x)\n",
        "plt.plot(x, y)\n",
        "\n",
        "def relu(X) :\n",
        "  return np.maximum(0, X)\n",
        "\n",
        "y = relu(x)\n",
        "plt.plot(x, y)\n",
        "\n",
        "def leaky_relu(X) :\n",
        "  return np.maximum(0.1 * X, X)\n",
        "\n",
        "y = leaky_relu(x)\n",
        "plt.plot(x, y)\n",
        "\n",
        "y = np.exp(x) / np.sum(np.exp(x))\n",
        "plt.plot(x, y)"
      ],
      "metadata": {
        "colab": {
          "base_uri": "https://localhost:8080/",
          "height": 358
        },
        "id": "oAf7v97R68Jo",
        "outputId": "aee142c0-d1d6-4ffe-bf54-f91b19a998e0"
      },
      "execution_count": 19,
      "outputs": [
        {
          "output_type": "stream",
          "name": "stderr",
          "text": [
            "/usr/local/lib/python3.7/dist-packages/ipykernel_launcher.py:5: DeprecationWarning: `np.int` is a deprecated alias for the builtin `int`. To silence this warning, use `int` by itself. Doing this will not modify any behavior and is safe. When replacing `np.int`, you may wish to use e.g. `np.int64` or `np.int32` to specify the precision. If you wish to review your current use, check the release note link for additional information.\n",
            "Deprecated in NumPy 1.20; for more details and guidance: https://numpy.org/devdocs/release/1.20.0-notes.html#deprecations\n",
            "  \"\"\"\n"
          ]
        },
        {
          "output_type": "execute_result",
          "data": {
            "text/plain": [
              "[<matplotlib.lines.Line2D at 0x7fdfb480cf10>]"
            ]
          },
          "metadata": {},
          "execution_count": 19
        },
        {
          "output_type": "display_data",
          "data": {
            "text/plain": [
              "<Figure size 432x288 with 1 Axes>"
            ],
            "image/png": "[encoded data removed]"
          },
          "metadata": {
            "needs_background": "light"
          }
        }
      ]
    }
  ]
}