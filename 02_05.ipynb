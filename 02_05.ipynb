{
  "nbformat": 4,
  "nbformat_minor": 0,
  "metadata": {
    "colab": {
      "name": "Untitled15.ipynb",
      "provenance": [],
      "authorship_tag": "ABX9TyOrSQ6ERh9bl/qW+zS5K63/",
      "include_colab_link": true
    },
    "kernelspec": {
      "name": "python3",
      "display_name": "Python 3"
    },
    "language_info": {
      "name": "python"
    }
  },
  "cells": [
    {
      "cell_type": "markdown",
      "metadata": {
        "id": "view-in-github",
        "colab_type": "text"
      },
      "source": [
        "<a href=\"https://colab.research.google.com/github/gugyeoj1n/Natural_Language_Processing/blob/main/02_05.ipynb\" target=\"_parent\"><img src=\"https://colab.research.google.com/assets/colab-badge.svg\" alt=\"Open In Colab\"/></a>"
      ]
    },
    {
      "cell_type": "code",
      "source": [
        "import re\n",
        "\n",
        "r = re.compile(\"a.c\") # . 어떤 문자로도 인식될 수 있다\n",
        "print(r.search(\"abc\"))\n",
        "\n",
        "r = re.compile(\"ab?c\") # ? 앞의 문자가 존재할 수도 있고 존재하지 않을 수도 있다\n",
        "print(r.search(\"abc\"))\n",
        "\n",
        "r = re.compile(\"ab*c\") # * 앞의 문자가 0개 이상 존재한다\n",
        "print(r.search(\"abbbc\"))\n",
        "\n",
        "r = re.compile(\"ab+c\") # + 앞의 문자가 1개 이상 존재한다\n",
        "print(r.search(\"ac\"))\n",
        "\n",
        "r = re.compile(\"^ab\") # ^ 시작되는 문자열을 지정한다\n",
        "print(r.search(\"abcdefg\"))\n",
        "\n",
        "r = re.compile(\"ab{2}c\") # {n} 앞의 문자를 n만큼 반복한다\n",
        "print(r.search(\"abbc\"))\n",
        "\n",
        "r = re.compile(\"ab{2, 8}c\") # {n1, n2} 앞의 문자를 n1 이상 n2 이하만큼 반복한다\n",
        "print(r.search(\"abbbbbbbbbc\"))\n",
        "\n",
        "r = re.compile(\"a{2,}bc\") # {n,} 앞의 문자를 n 이상의 횟수만큼 반복한다\n",
        "print(r.search(\"aaaabc\"))\n",
        "\n",
        "r = re.compile(\"[abc]\") # [] 입력된 문자 중 하나가 존재한다\n",
        "r.search(\"axyz\")\n",
        "\n",
        "r = re.compile(\"[^abc]\") #[^] 입력된 문자를 제외한 모든 문자가 존재한다\n",
        "r.search(\"x\")"
      ],
      "metadata": {
        "colab": {
          "base_uri": "https://localhost:8080/"
        },
        "id": "IQPFaLzvmbJK",
        "outputId": "23ffa5ac-3b91-423e-fafd-b72638f021b3"
      },
      "execution_count": 41,
      "outputs": [
        {
          "output_type": "stream",
          "name": "stdout",
          "text": [
            "<re.Match object; span=(0, 3), match='abc'>\n",
            "<re.Match object; span=(0, 3), match='abc'>\n",
            "<re.Match object; span=(0, 5), match='abbbc'>\n",
            "None\n",
            "<re.Match object; span=(0, 2), match='ab'>\n",
            "<re.Match object; span=(0, 4), match='abbc'>\n",
            "None\n",
            "<re.Match object; span=(0, 6), match='aaaabc'>\n"
          ]
        },
        {
          "output_type": "execute_result",
          "data": {
            "text/plain": [
              "<re.Match object; span=(0, 1), match='x'>"
            ]
          },
          "metadata": {},
          "execution_count": 41
        }
      ]
    },
    {
      "cell_type": "code",
      "source": [
        "r = re.compile(\"ab.\")\n",
        "print(r.match(\"xyzabc\")) # match()는 문자열의 처음부터 매치 여부를 확인한다\n",
        "print(r.search(\"xyzabc\")) # search()는 문자열 전체에서 매치 여부를 확인한다"
      ],
      "metadata": {
        "colab": {
          "base_uri": "https://localhost:8080/"
        },
        "id": "b-4leC08o1vX",
        "outputId": "fc557790-9b55-4737-b2dd-f9dec0ef269e"
      },
      "execution_count": 43,
      "outputs": [
        {
          "output_type": "stream",
          "name": "stdout",
          "text": [
            "None\n",
            "<re.Match object; span=(3, 6), match='abc'>\n"
          ]
        }
      ]
    },
    {
      "cell_type": "code",
      "source": [
        "text = \"사과 딸기 수박 멜론 바나나\"\n",
        "print(re.split(\" \", text))\n",
        "\n",
        "text = \"\"\"이름 : 곽우진\n",
        "전화번호 : 010 - 1234 - 5678\n",
        "나이 : 1\n",
        "성별 : 남자\"\"\"\n",
        "print(re.findall(\"\\d+\", text))\n",
        "\n",
        "text = \"Regular expression : A regular expression, regex or regexp[1] (sometimes called a rational expression)[2][3] is, in theoretical computer science and formal language theory, a sequence of characters that define a search pattern.\"\n",
        "preprocessed_text = re.sub('[^a-zA-Z]', ' ', text)\n",
        "print(preprocessed_text)"
      ],
      "metadata": {
        "colab": {
          "base_uri": "https://localhost:8080/"
        },
        "id": "n3-DMPnmpXA1",
        "outputId": "ec27b240-2a01-41fc-dad9-79f436d76cca"
      },
      "execution_count": 48,
      "outputs": [
        {
          "output_type": "stream",
          "name": "stdout",
          "text": [
            "['사과', '딸기', '수박', '멜론', '바나나']\n",
            "['010', '1234', '5678', '1']\n",
            "Regular expression   A regular expression  regex or regexp     sometimes called a rational expression        is  in theoretical computer science and formal language theory  a sequence of characters that define a search pattern \n"
          ]
        }
      ]
    },
    {
      "cell_type": "code",
      "source": [
        "text = \"\"\"100 John    PROF\n",
        "101 James   STUD\n",
        "102 Mac   STUD\"\"\"\n",
        "\n",
        "print(re.split('\\s+', text))\n",
        "print(re.findall('\\d+', text))\n",
        "print(re.findall('[A-Z]{4}', text))\n",
        "print(re.findall('[A-Z][a-z]+', text))"
      ],
      "metadata": {
        "colab": {
          "base_uri": "https://localhost:8080/"
        },
        "id": "6AxZf6jeqTYU",
        "outputId": "508e55e6-876f-47fc-a685-72629c6c564c"
      },
      "execution_count": 53,
      "outputs": [
        {
          "output_type": "stream",
          "name": "stdout",
          "text": [
            "['100', 'John', 'PROF', '101', 'James', 'STUD', '102', 'Mac', 'STUD']\n",
            "['100', '101', '102']\n",
            "['PROF', 'STUD', 'STUD']\n",
            "['John', 'James', 'Mac']\n"
          ]
        }
      ]
    },
    {
      "cell_type": "code",
      "source": [
        "from nltk.tokenize import RegexpTokenizer\n",
        "\n",
        "text = \"Don't be fooled by the dark sounding name, Mr. Jone's Orphanage is as cheery as cheery goes for a pastry shop\"\n",
        "\n",
        "tokenizer1 = RegexpTokenizer(\"[\\w]+\")\n",
        "tokenizer2 = RegexpTokenizer(\"\\s+\", gaps=True)\n",
        "\n",
        "print(tokenizer1.tokenize(text))\n",
        "print(tokenizer2.tokenize(text))"
      ],
      "metadata": {
        "colab": {
          "base_uri": "https://localhost:8080/"
        },
        "id": "UCVrCbFaq_Ih",
        "outputId": "fd753128-2a0a-4a49-9d94-d8e58f21af62"
      },
      "execution_count": 54,
      "outputs": [
        {
          "output_type": "stream",
          "name": "stdout",
          "text": [
            "['Don', 't', 'be', 'fooled', 'by', 'the', 'dark', 'sounding', 'name', 'Mr', 'Jone', 's', 'Orphanage', 'is', 'as', 'cheery', 'as', 'cheery', 'goes', 'for', 'a', 'pastry', 'shop']\n",
            "[\"Don't\", 'be', 'fooled', 'by', 'the', 'dark', 'sounding', 'name,', 'Mr.', \"Jone's\", 'Orphanage', 'is', 'as', 'cheery', 'as', 'cheery', 'goes', 'for', 'a', 'pastry', 'shop']\n"
          ]
        }
      ]
    }
  ]
}