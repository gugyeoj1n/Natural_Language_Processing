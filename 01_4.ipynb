{
  "nbformat": 4,
  "nbformat_minor": 0,
  "metadata": {
    "colab": {
      "name": "Untitled0.ipynb",
      "provenance": [],
      "authorship_tag": "ABX9TyN3bZx1wYuavGHK7HL/wv4V",
      "include_colab_link": true
    },
    "kernelspec": {
      "name": "python3",
      "display_name": "Python 3"
    },
    "language_info": {
      "name": "python"
    }
  },
  "cells": [
    {
      "cell_type": "markdown",
      "metadata": {
        "id": "view-in-github",
        "colab_type": "text"
      },
      "source": [
        "<a href=\"https://colab.research.google.com/github/gugyeoj1n/Natural_Language_Processing/blob/main/01_4.ipynb\" target=\"_parent\"><img src=\"https://colab.research.google.com/assets/colab-badge.svg\" alt=\"Open In Colab\"/></a>"
      ]
    },
    {
      "cell_type": "code",
      "execution_count": 2,
      "metadata": {
        "colab": {
          "base_uri": "https://localhost:8080/"
        },
        "id": "4P3yEvM1X3go",
        "outputId": "da3e850b-66be-4cf5-861f-f30536ac322f"
      },
      "outputs": [
        {
          "output_type": "stream",
          "name": "stdout",
          "text": [
            "A    1\n",
            "B    2\n",
            "C    3\n",
            "D    4\n",
            "dtype: int64\n",
            "[1 2 3 4]\n",
            "Index(['A', 'B', 'C', 'D'], dtype='object')\n"
          ]
        }
      ],
      "source": [
        "import pandas as pd\n",
        "\n",
        "sr = pd.Series([1, 2, 3, 4], index=[\"A\", \"B\", \"C\", \"D\"])\n",
        "print(sr)\n",
        "print(sr.values)\n",
        "print(sr.index)"
      ]
    },
    {
      "cell_type": "code",
      "source": [
        "values = [[1, 2, 3], [4, 5, 6], [7, 8, 9]]\n",
        "row = ['x', 'y', 'z']\n",
        "col = ['A', 'B', 'C']\n",
        "\n",
        "df = pd.DataFrame(values, index=row, columns=col)\n",
        "print(df)\n",
        "print(df.index)\n",
        "print(df.columns)\n",
        "print(df.values)"
      ],
      "metadata": {
        "colab": {
          "base_uri": "https://localhost:8080/"
        },
        "id": "siQGhMK-YdDe",
        "outputId": "0aa7b021-cdb8-4245-b8ac-980663d7c446"
      },
      "execution_count": 5,
      "outputs": [
        {
          "output_type": "stream",
          "name": "stdout",
          "text": [
            "   A  B  C\n",
            "x  1  2  3\n",
            "y  4  5  6\n",
            "z  7  8  9\n",
            "Index(['x', 'y', 'z'], dtype='object')\n",
            "Index(['A', 'B', 'C'], dtype='object')\n",
            "[[1 2 3]\n",
            " [4 5 6]\n",
            " [7 8 9]]\n"
          ]
        }
      ]
    },
    {
      "cell_type": "code",
      "source": [
        "data = [\n",
        "        ['A', '1', '!'],\n",
        "        ['B', '2', '@'],\n",
        "        ['C', '3', '#'],\n",
        "        ['D', '4', '$']\n",
        "]\n",
        "\n",
        "df = pd.DataFrame(data, columns=['알파벳', '숫자', '기호'])\n",
        "print(df)"
      ],
      "metadata": {
        "colab": {
          "base_uri": "https://localhost:8080/"
        },
        "id": "8tZ82clNZsIN",
        "outputId": "0e80d5b0-b8b1-4808-ab34-354bec7eb884"
      },
      "execution_count": 8,
      "outputs": [
        {
          "output_type": "stream",
          "name": "stdout",
          "text": [
            "  알파벳 숫자 기호\n",
            "0   A  1  !\n",
            "1   B  2  @\n",
            "2   C  3  #\n",
            "3   D  4  $\n"
          ]
        }
      ]
    },
    {
      "cell_type": "code",
      "source": [
        "print(df.head(2))\n",
        "print(df.tail(1))\n",
        "print(df['숫자'])"
      ],
      "metadata": {
        "colab": {
          "base_uri": "https://localhost:8080/"
        },
        "id": "pgFdIEFLaPp3",
        "outputId": "89ee3ee4-a67c-42fb-97f9-d2d7a46718fe"
      },
      "execution_count": 13,
      "outputs": [
        {
          "output_type": "stream",
          "name": "stdout",
          "text": [
            "  알파벳 숫자 기호\n",
            "0   A  1  !\n",
            "1   B  2  @\n",
            "  알파벳 숫자 기호\n",
            "3   D  4  $\n",
            "0    1\n",
            "1    2\n",
            "2    3\n",
            "3    4\n",
            "Name: 숫자, dtype: object\n"
          ]
        }
      ]
    },
    {
      "cell_type": "code",
      "source": [
        "import numpy as np\n",
        "\n",
        "vec = np.array([1, 2, 3, 4, 5])\n",
        "print(vec)\n",
        "\n",
        "mat = np.array([[1, 2, 3], [4, 5, 6], [7, 8, 9]]) # array() 속 리스트는 하나\n",
        "print(mat)\n",
        "\n",
        "print('vec :', type(vec))\n",
        "print('mat :', type(mat))\n",
        "\n",
        "print('vec :', vec.ndim, vec.shape)\n",
        "print('mat :', mat.ndim, mat.shape)"
      ],
      "metadata": {
        "colab": {
          "base_uri": "https://localhost:8080/"
        },
        "id": "lE1DMLlic6fH",
        "outputId": "b8acce83-01e1-40fd-8f63-797bb20ff156"
      },
      "execution_count": 17,
      "outputs": [
        {
          "output_type": "stream",
          "name": "stdout",
          "text": [
            "[1 2 3 4 5]\n",
            "[[1 2 3]\n",
            " [4 5 6]\n",
            " [7 8 9]]\n",
            "vec : <class 'numpy.ndarray'>\n",
            "mat : <class 'numpy.ndarray'>\n",
            "vec : 1 (5,)\n",
            "mat : 2 (3, 3)\n"
          ]
        }
      ]
    },
    {
      "cell_type": "code",
      "source": [
        "zero_mat = np.zeros((4, 3))\n",
        "print(zero_mat)\n",
        "\n",
        "one_mat = np.ones((2, 4))\n",
        "print(one_mat)\n",
        "\n",
        "full_mat = np.full((3, 3), 5)\n",
        "print(full_mat)\n",
        "\n",
        "eye_mat = np.eye(6)\n",
        "print(eye_mat)\n",
        "\n",
        "random_mat = np.random.random((4, 3))\n",
        "print(random_mat)"
      ],
      "metadata": {
        "colab": {
          "base_uri": "https://localhost:8080/"
        },
        "id": "fkU0LdSKdst2",
        "outputId": "927ff419-b5cc-4055-b92c-76f05a4872f7"
      },
      "execution_count": 26,
      "outputs": [
        {
          "output_type": "stream",
          "name": "stdout",
          "text": [
            "[[0. 0. 0.]\n",
            " [0. 0. 0.]\n",
            " [0. 0. 0.]\n",
            " [0. 0. 0.]]\n",
            "[[1. 1. 1. 1.]\n",
            " [1. 1. 1. 1.]]\n",
            "[[5 5 5]\n",
            " [5 5 5]\n",
            " [5 5 5]]\n",
            "[[1. 0. 0. 0. 0. 0.]\n",
            " [0. 1. 0. 0. 0. 0.]\n",
            " [0. 0. 1. 0. 0. 0.]\n",
            " [0. 0. 0. 1. 0. 0.]\n",
            " [0. 0. 0. 0. 1. 0.]\n",
            " [0. 0. 0. 0. 0. 1.]]\n",
            "[[0.51283537 0.4731373  0.1356904 ]\n",
            " [0.81680293 0.97610163 0.57392434]\n",
            " [0.89824999 0.90127867 0.2622249 ]\n",
            " [0.46117792 0.57706031 0.95546206]]\n"
          ]
        }
      ]
    },
    {
      "cell_type": "code",
      "source": [
        "range_vec = np.arange(10)\n",
        "print(range_vec)\n",
        "\n",
        "range_step_vec = np.arange(1, 10, 2)\n",
        "print(range_step_vec)\n",
        "\n",
        "reshape_mat = np.array(np.arange(20)).reshape((4, 5))\n",
        "print(reshape_mat)"
      ],
      "metadata": {
        "colab": {
          "base_uri": "https://localhost:8080/"
        },
        "id": "inRqNi_VeUvd",
        "outputId": "5f2ba08d-2a63-4d5a-e7ed-5779a6ca26d2"
      },
      "execution_count": 30,
      "outputs": [
        {
          "output_type": "stream",
          "name": "stdout",
          "text": [
            "[0 1 2 3 4 5 6 7 8 9]\n",
            "[1 3 5 7 9]\n",
            "[[ 0  1  2  3  4]\n",
            " [ 5  6  7  8  9]\n",
            " [10 11 12 13 14]\n",
            " [15 16 17 18 19]]\n"
          ]
        }
      ]
    },
    {
      "cell_type": "code",
      "source": [
        "mat = np.array([[1, 2, 3], [4, 5, 6], [7, 8, 9]])\n",
        "print(mat)\n",
        "\n",
        "slice_mat = mat[:, 2]\n",
        "print(slice_mat)\n",
        "\n",
        "indexing_mat = mat[[1,1], [2, 1]]\n",
        "print(indexing_mat)"
      ],
      "metadata": {
        "colab": {
          "base_uri": "https://localhost:8080/"
        },
        "id": "52e-Z7bhexuN",
        "outputId": "18d5d2b3-3959-4132-d257-20062ca861e6"
      },
      "execution_count": 40,
      "outputs": [
        {
          "output_type": "stream",
          "name": "stdout",
          "text": [
            "[[1 2 3]\n",
            " [4 5 6]\n",
            " [7 8 9]]\n",
            "[3 6 9]\n",
            "[6 5]\n"
          ]
        }
      ]
    },
    {
      "cell_type": "code",
      "source": [
        "import matplotlib.pyplot as plt\n",
        "\n",
        "plt.plot([1, 2, 3, 4], [1, 2, 3, 4])\n",
        "plt.plot([1, 2, 3, 4], [4, 3, 2, 1])\n",
        "plt.legend(['A', 'B'])\n",
        "plt.xlabel('x')\n",
        "plt.ylabel('y')\n",
        "plt.show()"
      ],
      "metadata": {
        "colab": {
          "base_uri": "https://localhost:8080/",
          "height": 279
        },
        "id": "LwLA0mCsf6Mt",
        "outputId": "886d3384-664a-4739-a9ef-79003324b249"
      },
      "execution_count": 46,
      "outputs": [
        {
          "output_type": "display_data",
          "data": {
            "text/plain": [
              "<Figure size 432x288 with 1 Axes>"
            ],
            "image/png": "[encoded data removed]"
          },
          "metadata": {
            "needs_background": "light"
          }
        }
      ]
    }
  ]
}