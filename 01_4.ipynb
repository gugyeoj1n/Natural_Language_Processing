{
  "nbformat": 4,
  "nbformat_minor": 0,
  "metadata": {
    "colab": {
      "name": "Untitled0.ipynb",
      "provenance": [],
      "authorship_tag": "ABX9TyMoBLo9sgC61BbEvsehQBn9",
      "include_colab_link": true
    },
    "kernelspec": {
      "name": "python3",
      "display_name": "Python 3"
    },
    "language_info": {
      "name": "python"
    }
  },
  "cells": [
    {
      "cell_type": "markdown",
      "metadata": {
        "id": "view-in-github",
        "colab_type": "text"
      },
      "source": [
        "<a href=\"https://colab.research.google.com/github/gugyeoj1n/Natural_Language_Processing/blob/main/01_4.ipynb\" target=\"_parent\"><img src=\"https://colab.research.google.com/assets/colab-badge.svg\" alt=\"Open In Colab\"/></a>"
      ]
    },
    {
      "cell_type": "code",
      "execution_count": 2,
      "metadata": {
        "colab": {
          "base_uri": "https://localhost:8080/"
        },
        "id": "4P3yEvM1X3go",
        "outputId": "da3e850b-66be-4cf5-861f-f30536ac322f"
      },
      "outputs": [
        {
          "output_type": "stream",
          "name": "stdout",
          "text": [
            "A    1\n",
            "B    2\n",
            "C    3\n",
            "D    4\n",
            "dtype: int64\n",
            "[1 2 3 4]\n",
            "Index(['A', 'B', 'C', 'D'], dtype='object')\n"
          ]
        }
      ],
      "source": [
        "import pandas as pd\n",
        "\n",
        "sr = pd.Series([1, 2, 3, 4], index=[\"A\", \"B\", \"C\", \"D\"])\n",
        "print(sr)\n",
        "print(sr.values)\n",
        "print(sr.index)"
      ]
    },
    {
      "cell_type": "code",
      "source": [
        "values = [[1, 2, 3], [4, 5, 6], [7, 8, 9]]\n",
        "row = ['x', 'y', 'z']\n",
        "col = ['A', 'B', 'C']\n",
        "\n",
        "df = pd.DataFrame(values, index=row, columns=col)\n",
        "print(df)\n",
        "print(df.index)\n",
        "print(df.columns)\n",
        "print(df.values)"
      ],
      "metadata": {
        "colab": {
          "base_uri": "https://localhost:8080/"
        },
        "id": "siQGhMK-YdDe",
        "outputId": "0aa7b021-cdb8-4245-b8ac-980663d7c446"
      },
      "execution_count": 5,
      "outputs": [
        {
          "output_type": "stream",
          "name": "stdout",
          "text": [
            "   A  B  C\n",
            "x  1  2  3\n",
            "y  4  5  6\n",
            "z  7  8  9\n",
            "Index(['x', 'y', 'z'], dtype='object')\n",
            "Index(['A', 'B', 'C'], dtype='object')\n",
            "[[1 2 3]\n",
            " [4 5 6]\n",
            " [7 8 9]]\n"
          ]
        }
      ]
    },
    {
      "cell_type": "code",
      "source": [
        "data = [\n",
        "        ['A', '1', '!'],\n",
        "        ['B', '2', '@'],\n",
        "        ['C', '3', '#'],\n",
        "        ['D', '4', '$']\n",
        "]\n",
        "\n",
        "df = pd.DataFrame(data, columns=['알파벳', '숫자', '기호'])\n",
        "print(df)"
      ],
      "metadata": {
        "colab": {
          "base_uri": "https://localhost:8080/"
        },
        "id": "8tZ82clNZsIN",
        "outputId": "0e80d5b0-b8b1-4808-ab34-354bec7eb884"
      },
      "execution_count": 8,
      "outputs": [
        {
          "output_type": "stream",
          "name": "stdout",
          "text": [
            "  알파벳 숫자 기호\n",
            "0   A  1  !\n",
            "1   B  2  @\n",
            "2   C  3  #\n",
            "3   D  4  $\n"
          ]
        }
      ]
    },
    {
      "cell_type": "code",
      "source": [
        "print(df.head(2))\n",
        "print(df.tail(1))\n",
        "print(df['숫자'])"
      ],
      "metadata": {
        "colab": {
          "base_uri": "https://localhost:8080/"
        },
        "id": "pgFdIEFLaPp3",
        "outputId": "89ee3ee4-a67c-42fb-97f9-d2d7a46718fe"
      },
      "execution_count": 13,
      "outputs": [
        {
          "output_type": "stream",
          "name": "stdout",
          "text": [
            "  알파벳 숫자 기호\n",
            "0   A  1  !\n",
            "1   B  2  @\n",
            "  알파벳 숫자 기호\n",
            "3   D  4  $\n",
            "0    1\n",
            "1    2\n",
            "2    3\n",
            "3    4\n",
            "Name: 숫자, dtype: object\n"
          ]
        }
      ]
    }
  ]
}