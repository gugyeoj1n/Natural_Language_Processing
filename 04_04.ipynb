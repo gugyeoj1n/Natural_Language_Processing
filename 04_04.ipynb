{
  "nbformat": 4,
  "nbformat_minor": 0,
  "metadata": {
    "colab": {
      "name": "Untitled16.ipynb",
      "provenance": [],
      "authorship_tag": "ABX9TyOF4tvTZDm4Qesm5UdZciU2",
      "include_colab_link": true
    },
    "kernelspec": {
      "name": "python3",
      "display_name": "Python 3"
    },
    "language_info": {
      "name": "python"
    }
  },
  "cells": [
    {
      "cell_type": "markdown",
      "metadata": {
        "id": "view-in-github",
        "colab_type": "text"
      },
      "source": [
        "<a href=\"https://colab.research.google.com/github/gugyeoj1n/Natural_Language_Processing/blob/main/04_04.ipynb\" target=\"_parent\"><img src=\"https://colab.research.google.com/assets/colab-badge.svg\" alt=\"Open In Colab\"/></a>"
      ]
    },
    {
      "cell_type": "code",
      "source": [
        "import pandas as pd\n",
        "from math import log\n",
        "\n",
        "docs = [\n",
        "        '먹고 싶은 사과',\n",
        "        '먹고 싶은 바나나',\n",
        "        '길고 노란 바나나 바나나',\n",
        "        '저는 과일이 좋아요'\n",
        "]\n",
        "\n",
        "vocab = sorted(list(set(w for doc in docs for w in doc.split())))\n",
        "\n",
        "N = len(docs)\n",
        "\n",
        "def tf(t, d) :\n",
        "  return d.count(t)\n",
        "\n",
        "def idf(t) :\n",
        "  df = 0\n",
        "  for doc in docs :\n",
        "    df += t in doc\n",
        "  return log(N / (df+1))\n",
        "\n",
        "def tf_idf(t, d) :\n",
        "  return tf(t, d) * idf(t)\n",
        "\n",
        "result = []\n",
        "for i in range(N) :\n",
        "  result.append([])\n",
        "  d = docs[i]\n",
        "  for j in range(len(vocab)) :\n",
        "    t = vocab[j]\n",
        "    result[-1].append(tf(t, d))\n",
        "tf_ = pd.DataFrame(result, columns=vocab)\n",
        "\n",
        "result = []\n",
        "for i in range(len(vocab)) :\n",
        "  t = vocab[i]\n",
        "  result.append(idf(t))\n",
        "idf_ = pd.DataFrame(result, index=vocab, columns=[\"IDF\"])\n",
        "\n",
        "result = []\n",
        "for i in range(N) :\n",
        "  result.append([])\n",
        "  d = docs[i]\n",
        "  for j in range(len(vocab)) :\n",
        "    t = vocab[j]\n",
        "    result[-1].append(tf_idf(t, d))\n",
        "tf_idf_ = pd.DataFrame(result, columns=vocab)\n",
        "\n",
        "print(tf_, end=\"\\n\")\n",
        "print(idf_, end=\"\\n\")\n",
        "print(tf_idf_)"
      ],
      "metadata": {
        "colab": {
          "base_uri": "https://localhost:8080/"
        },
        "id": "mzB_kgKK-1hb",
        "outputId": "8447a04d-2083-4c73-9dbf-6fcba44ee2fd"
      },
      "execution_count": 11,
      "outputs": [
        {
          "output_type": "stream",
          "name": "stdout",
          "text": [
            "   과일이  길고  노란  먹고  바나나  사과  싶은  저는  좋아요\n",
            "0    0   0   0   1    0   1   1   0    0\n",
            "1    0   0   0   1    1   0   1   0    0\n",
            "2    0   1   1   0    2   0   0   0    0\n",
            "3    1   0   0   0    0   0   0   1    1\n",
            "          IDF\n",
            "과일이  0.693147\n",
            "길고   0.693147\n",
            "노란   0.693147\n",
            "먹고   0.287682\n",
            "바나나  0.287682\n",
            "사과   0.693147\n",
            "싶은   0.287682\n",
            "저는   0.693147\n",
            "좋아요  0.693147\n",
            "        과일이        길고        노란        먹고       바나나        사과        싶은  \\\n",
            "0  0.000000  0.000000  0.000000  0.287682  0.000000  0.693147  0.287682   \n",
            "1  0.000000  0.000000  0.000000  0.287682  0.287682  0.000000  0.287682   \n",
            "2  0.000000  0.693147  0.693147  0.000000  0.575364  0.000000  0.000000   \n",
            "3  0.693147  0.000000  0.000000  0.000000  0.000000  0.000000  0.000000   \n",
            "\n",
            "         저는       좋아요  \n",
            "0  0.000000  0.000000  \n",
            "1  0.000000  0.000000  \n",
            "2  0.000000  0.000000  \n",
            "3  0.693147  0.693147  \n"
          ]
        }
      ]
    },
    {
      "cell_type": "code",
      "source": [
        "from sklearn.feature_extraction.text import TfidfVectorizer\n",
        "\n",
        "corpus = [\n",
        "    'you know I want your love',\n",
        "    'I like you',\n",
        "    'what should I do ',    \n",
        "]\n",
        "\n",
        "tfidfv = TfidfVectorizer().fit(corpus)\n",
        "\n",
        "print(tfidfv.transform(corpus).toarray())\n",
        "print(tfidfv.vocabulary_)"
      ],
      "metadata": {
        "id": "g01mOgD9CDcv"
      },
      "execution_count": null,
      "outputs": []
    }
  ]
}