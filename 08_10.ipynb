{
  "nbformat": 4,
  "nbformat_minor": 0,
  "metadata": {
    "colab": {
      "name": "Untitled18.ipynb",
      "provenance": [],
      "authorship_tag": "ABX9TyM8wZvjfvEN9EeXMvZFsq/o",
      "include_colab_link": true
    },
    "kernelspec": {
      "name": "python3",
      "display_name": "Python 3"
    },
    "language_info": {
      "name": "python"
    }
  },
  "cells": [
    {
      "cell_type": "markdown",
      "metadata": {
        "id": "view-in-github",
        "colab_type": "text"
      },
      "source": [
        "<a href=\"https://colab.research.google.com/github/gugyeoj1n/Natural_Language_Processing/blob/main/08_10.ipynb\" target=\"_parent\"><img src=\"https://colab.research.google.com/assets/colab-badge.svg\" alt=\"Open In Colab\"/></a>"
      ]
    },
    {
      "cell_type": "code",
      "source": [
        "import numpy as np\n",
        "from tensorflow.keras.preprocessing.text import Tokenizer\n",
        "\n",
        "texts = [\"먹고 싶은 치킨\", \"먹고 싶은 피자\", \"햄버거 크고 아름다운 햄버거\", \"저는 음식이 좋아요\"]\n",
        "tokenizer = Tokenizer()\n",
        "tokenizer.fit_on_texts(texts)\n",
        "\n",
        "print(len(tokenizer.word_index))\n",
        "# count : 단어가 등장한 횟수\n",
        "# binary : 단어의 등장 여부\n",
        "# tfidf : TF-IDF\n",
        "# freq : 단어가 등장한 횟수 / 문장의 단어 개수\n",
        "print(tokenizer.texts_to_matrix(texts, mode='count'), end=\"\\n\\n\")\n",
        "print(tokenizer.texts_to_matrix(texts, mode='binary'), end=\"\\n\\n\")\n",
        "print(tokenizer.texts_to_matrix(texts, mode='tfidf').round(2), end=\"\\n\\n\")\n",
        "print(tokenizer.texts_to_matrix(texts, mode='freq').round(2), end=\"\\n\\n\")"
      ],
      "metadata": {
        "colab": {
          "base_uri": "https://localhost:8080/"
        },
        "id": "-8Ktly1c8AgN",
        "outputId": "7ffc3b15-c454-4fb3-d0db-7385c36e23bf"
      },
      "execution_count": null,
      "outputs": [
        {
          "output_type": "stream",
          "name": "stdout",
          "text": [
            "10\n",
            "[[0. 1. 1. 0. 1. 0. 0. 0. 0. 0. 0.]\n",
            " [0. 1. 1. 0. 0. 1. 0. 0. 0. 0. 0.]\n",
            " [0. 0. 0. 2. 0. 0. 1. 1. 0. 0. 0.]\n",
            " [0. 0. 0. 0. 0. 0. 0. 0. 1. 1. 1.]]\n",
            "\n",
            "[[0. 1. 1. 0. 1. 0. 0. 0. 0. 0. 0.]\n",
            " [0. 1. 1. 0. 0. 1. 0. 0. 0. 0. 0.]\n",
            " [0. 0. 0. 1. 0. 0. 1. 1. 0. 0. 0.]\n",
            " [0. 0. 0. 0. 0. 0. 0. 0. 1. 1. 1.]]\n",
            "\n",
            "[[0.   0.85 0.85 0.   1.1  0.   0.   0.   0.   0.   0.  ]\n",
            " [0.   0.85 0.85 0.   0.   1.1  0.   0.   0.   0.   0.  ]\n",
            " [0.   0.   0.   1.86 0.   0.   1.1  1.1  0.   0.   0.  ]\n",
            " [0.   0.   0.   0.   0.   0.   0.   0.   1.1  1.1  1.1 ]]\n",
            "\n",
            "[[0.   0.33 0.33 0.   0.33 0.   0.   0.   0.   0.   0.  ]\n",
            " [0.   0.33 0.33 0.   0.   0.33 0.   0.   0.   0.   0.  ]\n",
            " [0.   0.   0.   0.5  0.   0.   0.25 0.25 0.   0.   0.  ]\n",
            " [0.   0.   0.   0.   0.   0.   0.   0.   0.33 0.33 0.33]]\n",
            "\n"
          ]
        }
      ]
    },
    {
      "cell_type": "code",
      "source": [
        "import pandas as pd\n",
        "from sklearn.datasets import fetch_20newsgroups\n",
        "import matplotlib.pyplot as plt\n",
        "from tensorflow.keras.utils import to_categorical\n",
        "\n",
        "newsdata = fetch_20newsgroups(subset='train')\n",
        "print(newsdata.keys())\n",
        "print(\"train sample : \", len(newsdata.data))\n",
        "print(\"target : \", len(newsdata.target_names))\n",
        "\n",
        "data = pd.DataFrame(newsdata.data, columns=['email'])\n",
        "data['target'] = pd.Series(newsdata.target)\n",
        "\n",
        "data['target'].value_counts().plot(kind='bar')\n",
        "\n",
        "print(data.groupby('target').size().reset_index(name='count'))"
      ],
      "metadata": {
        "colab": {
          "base_uri": "https://localhost:8080/",
          "height": 704
        },
        "id": "KohUNUWI9d2s",
        "outputId": "37e47653-f28e-4d15-d7a8-c4f6cee74dab"
      },
      "execution_count": null,
      "outputs": [
        {
          "output_type": "stream",
          "name": "stdout",
          "text": [
            "dict_keys(['data', 'filenames', 'target_names', 'target', 'DESCR'])\n",
            "train sample :  11314\n",
            "target :  20\n",
            "    target  count\n",
            "0        0    480\n",
            "1        1    584\n",
            "2        2    591\n",
            "3        3    590\n",
            "4        4    578\n",
            "5        5    593\n",
            "6        6    585\n",
            "7        7    594\n",
            "8        8    598\n",
            "9        9    597\n",
            "10      10    600\n",
            "11      11    595\n",
            "12      12    591\n",
            "13      13    594\n",
            "14      14    593\n",
            "15      15    599\n",
            "16      16    546\n",
            "17      17    564\n",
            "18      18    465\n",
            "19      19    377\n"
          ]
        },
        {
          "output_type": "display_data",
          "data": {
            "text/plain": [
              "<Figure size 432x288 with 1 Axes>"
            ],
            "image/png": "[encoded data removed]"
          },
          "metadata": {
            "needs_background": "light"
          }
        }
      ]
    },
    {
      "cell_type": "code",
      "source": [
        "newsdata_test = fetch_20newsgroups(subset='test', shuffle=True)\n",
        "train_email, train_label = data['email'], data['target']\n",
        "test_email, test_label = newsdata_test.data, newsdata_test.target\n",
        "\n",
        "vocab_size = 10000\n",
        "num_classes = 20\n",
        "\n",
        "def data_preprocs(train_data, test_data, mode) :\n",
        "  tokenizer = Tokenizer(num_words = vocab_size)\n",
        "  tokenizer.fit_on_texts(train_data)\n",
        "  x_train = tokenizer.texts_to_matrix(train_data, mode=mode)\n",
        "  x_test = tokenizer.texts_to_matrix(test_data, mode=mode)\n",
        "\n",
        "  return x_train, x_test, tokenizer.index_word\n",
        "\n",
        "x_train, x_test, index_to_word = data_preprocs(train_email, test_email, 'binary')\n",
        "y_train = to_categorical(train_label, num_classes)\n",
        "y_test = to_categorical(test_label, num_classes)\n",
        "\n",
        "print(index_to_word[1], index_to_word[9999])"
      ],
      "metadata": {
        "colab": {
          "base_uri": "https://localhost:8080/"
        },
        "id": "HQAV6G26AxfP",
        "outputId": "60e5238b-fa81-4d3b-da4e-67df4093253a"
      },
      "execution_count": null,
      "outputs": [
        {
          "output_type": "stream",
          "name": "stdout",
          "text": [
            "the mic\n"
          ]
        }
      ]
    }
  ]
}