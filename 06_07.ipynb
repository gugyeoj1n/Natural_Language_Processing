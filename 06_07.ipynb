{
  "nbformat": 4,
  "nbformat_minor": 0,
  "metadata": {
    "colab": {
      "name": "Untitled15.ipynb",
      "provenance": [],
      "mount_file_id": "1kz1n-JQbvNJ1H4nqil4ZzxX4vfhQrCv9",
      "authorship_tag": "ABX9TyOtrpnLyWd75iGJzfd8WGAt",
      "include_colab_link": true
    },
    "kernelspec": {
      "name": "python3",
      "display_name": "Python 3"
    },
    "language_info": {
      "name": "python"
    }
  },
  "cells": [
    {
      "cell_type": "markdown",
      "metadata": {
        "id": "view-in-github",
        "colab_type": "text"
      },
      "source": [
        "<a href=\"https://colab.research.google.com/github/gugyeoj1n/Natural_Language_Processing/blob/main/06_07.ipynb\" target=\"_parent\"><img src=\"https://colab.research.google.com/assets/colab-badge.svg\" alt=\"Open In Colab\"/></a>"
      ]
    },
    {
      "cell_type": "code",
      "source": [
        "import numpy as np\n",
        "import matplotlib.pyplot as plt\n",
        "from tensorflow.keras.models import Sequential\n",
        "from tensorflow.keras.layers import Dense\n",
        "from tensorflow.keras import optimizers\n",
        "\n",
        "x = np.array([[70,85,11], [71,89,18], [50,80,20], [99,20,10], [50,10,10]]) \n",
        "y = np.array([73, 82 ,72, 57, 34])\n",
        "\n",
        "model = Sequential()\n",
        "model.add(Dense(1, input_dim=3, activation='linear'))\n",
        "sgd = optimizers.SGD(lr=0.0001)\n",
        "model.compile(optimizer=sgd, loss='mse', metrics=['mse'])\n",
        "\n",
        "model.fit(x, y, epochs=500)"
      ],
      "metadata": {
        "id": "AujYFmFpKiTW"
      },
      "execution_count": null,
      "outputs": []
    },
    {
      "cell_type": "code",
      "source": [
        "X_test = np.array([[20,99,10], [40,50,20]])\n",
        "print(model.predict(X_test))"
      ],
      "metadata": {
        "colab": {
          "base_uri": "https://localhost:8080/"
        },
        "id": "c9-eY354LFei",
        "outputId": "1b891e05-c030-4da9-8e39-ec75e2816c7e"
      },
      "execution_count": 33,
      "outputs": [
        {
          "output_type": "stream",
          "name": "stdout",
          "text": [
            "[[57.947998]\n",
            " [55.91063 ]]\n"
          ]
        }
      ]
    },
    {
      "cell_type": "code",
      "source": [
        "X = np.array([[0, 0], [0, 1], [1, 0], [0, 2], [1, 1], [2, 0]])\n",
        "y = np.array([0, 0, 0, 1, 1, 1])\n",
        "\n",
        "model = Sequential()\n",
        "model.add(Dense(1, input_dim=2, activation='sigmoid'))\n",
        "model.compile(optimizer='sgd', loss='binary_crossentropy', metrics=['binary_accuracy'])\n",
        "\n",
        "model.fit(X, y, epochs=3000)"
      ],
      "metadata": {
        "id": "9UgpSK96LRKt"
      },
      "execution_count": null,
      "outputs": []
    },
    {
      "cell_type": "code",
      "source": [
        "print(model.predict(X))"
      ],
      "metadata": {
        "colab": {
          "base_uri": "https://localhost:8080/"
        },
        "id": "vEKil2EEMC5o",
        "outputId": "8f4e6d7e-0bef-426d-e6b2-cff512261c58"
      },
      "execution_count": 39,
      "outputs": [
        {
          "output_type": "stream",
          "name": "stdout",
          "text": [
            "WARNING:tensorflow:6 out of the last 8 calls to <function Model.make_predict_function.<locals>.predict_function at 0x7f7a02475b00> triggered tf.function retracing. Tracing is expensive and the excessive number of tracings could be due to (1) creating @tf.function repeatedly in a loop, (2) passing tensors with different shapes, (3) passing Python objects instead of tensors. For (1), please define your @tf.function outside of the loop. For (2), @tf.function has experimental_relax_shapes=True option that relaxes argument shapes that can avoid unnecessary retracing. For (3), please refer to https://www.tensorflow.org/guide/function#controlling_retracing and https://www.tensorflow.org/api_docs/python/tf/function for  more details.\n",
            "[[0.0928199 ]\n",
            " [0.3941812 ]\n",
            " [0.39288893]\n",
            " [0.8053603 ]\n",
            " [0.8045101 ]\n",
            " [0.8036572 ]]\n"
          ]
        }
      ]
    }
  ]
}