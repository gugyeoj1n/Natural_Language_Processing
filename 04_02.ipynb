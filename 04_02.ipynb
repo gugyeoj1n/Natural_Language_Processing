{
  "nbformat": 4,
  "nbformat_minor": 0,
  "metadata": {
    "colab": {
      "name": "Untitled16.ipynb",
      "provenance": [],
      "authorship_tag": "ABX9TyPzcod6iSnT+LEiVZDPgKy4",
      "include_colab_link": true
    },
    "kernelspec": {
      "name": "python3",
      "display_name": "Python 3"
    },
    "language_info": {
      "name": "python"
    }
  },
  "cells": [
    {
      "cell_type": "markdown",
      "metadata": {
        "id": "view-in-github",
        "colab_type": "text"
      },
      "source": [
        "<a href=\"https://colab.research.google.com/github/gugyeoj1n/Natural_Language_Processing/blob/main/04_02.ipynb\" target=\"_parent\"><img src=\"https://colab.research.google.com/assets/colab-badge.svg\" alt=\"Open In Colab\"/></a>"
      ]
    },
    {
      "cell_type": "code",
      "source": [
        "from konlpy.tag import Okt\n",
        "\n",
        "okt = Okt()\n",
        "\n",
        "def build_bag_of_words(document) :\n",
        "  document = document.replace(\".\", \"\")\n",
        "  tokenized_document = okt.morphs(document)\n",
        "  word_to_idx, bow = {}, []\n",
        "\n",
        "  for word in tokenized_document :\n",
        "    if word not in word_to_idx.keys() :\n",
        "      word_to_idx[word] = len(word_to_idx)\n",
        "      bow.insert(len(word_to_idx) - 1, 1)\n",
        "    else :\n",
        "      index = word_to_idx.get(word)\n",
        "      bow[index] += 1\n",
        "\n",
        "  return word_to_idx, bow"
      ],
      "metadata": {
        "id": "JnCick2r6322"
      },
      "execution_count": 4,
      "outputs": []
    },
    {
      "cell_type": "code",
      "source": [
        "doc1 = \"정부가 발표하는 물가상승률과 소비자가 느끼는 물가상승률은 다르다.\"\n",
        "vocab, bow = build_bag_of_words(doc1)\n",
        "print(\"Vocab : \", vocab)\n",
        "print(\"BoW : \", bow)"
      ],
      "metadata": {
        "colab": {
          "base_uri": "https://localhost:8080/"
        },
        "id": "IQuk5ZLm7cYh",
        "outputId": "d82a78fa-1301-4cec-e0d5-bbf461fde035"
      },
      "execution_count": 5,
      "outputs": [
        {
          "output_type": "stream",
          "name": "stdout",
          "text": [
            "Vocab :  {'정부': 0, '가': 1, '발표': 2, '하는': 3, '물가상승률': 4, '과': 5, '소비자': 6, '느끼는': 7, '은': 8, '다르다': 9}\n",
            "BoW :  [1, 2, 1, 1, 2, 1, 1, 1, 1, 1]\n"
          ]
        }
      ]
    },
    {
      "cell_type": "code",
      "source": [
        "from sklearn.feature_extraction.text import CountVectorizer\n",
        "\n",
        "corpus = ['you know I want your love. because I love you.']\n",
        "vector = CountVectorizer()\n",
        "\n",
        "print(\"BoW : \", vector.fit_transform(corpus).toarray())\n",
        "print(\"Vocab : \", vector.vocabulary_)"
      ],
      "metadata": {
        "colab": {
          "base_uri": "https://localhost:8080/"
        },
        "id": "iLScH-tl8CWM",
        "outputId": "4fcaf116-d6e4-499e-ce63-35db31bb12eb"
      },
      "execution_count": 6,
      "outputs": [
        {
          "output_type": "stream",
          "name": "stdout",
          "text": [
            "BoW :  [[1 1 2 1 2 1]]\n",
            "Vocab :  {'you': 4, 'know': 1, 'want': 3, 'your': 5, 'love': 2, 'because': 0}\n"
          ]
        }
      ]
    },
    {
      "cell_type": "code",
      "source": [
        "from nltk.corpus import stopwords\n",
        "\n",
        "text = [\"Family is not an important thing. It's everything.\"]\n",
        "vect = CountVectorizer(stop_words=[\"the\", \"a\", \"an\", \"is\", \"not\"])\n",
        "print(\"BoW : \", vect.fit_transform(text).toarray())\n",
        "print(\"Vocab : \", vect.vocabulary_)"
      ],
      "metadata": {
        "colab": {
          "base_uri": "https://localhost:8080/"
        },
        "id": "xjjgl4rQ8g6t",
        "outputId": "6eb934ef-36c3-411a-84d2-3a75111176dd"
      },
      "execution_count": 9,
      "outputs": [
        {
          "output_type": "stream",
          "name": "stdout",
          "text": [
            "BoW :  [[1 1 1 1 1]]\n",
            "Vocab :  {'family': 1, 'important': 2, 'thing': 4, 'it': 3, 'everything': 0}\n"
          ]
        }
      ]
    }
  ]
}