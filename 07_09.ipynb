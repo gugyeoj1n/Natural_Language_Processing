{
  "nbformat": 4,
  "nbformat_minor": 0,
  "metadata": {
    "colab": {
      "name": "Untitled19.ipynb",
      "provenance": [],
      "authorship_tag": "ABX9TyPZsD25oU+RQYLo7Wzuv9RY",
      "include_colab_link": true
    },
    "kernelspec": {
      "name": "python3",
      "display_name": "Python 3"
    },
    "language_info": {
      "name": "python"
    }
  },
  "cells": [
    {
      "cell_type": "markdown",
      "metadata": {
        "id": "view-in-github",
        "colab_type": "text"
      },
      "source": [
        "<a href=\"https://colab.research.google.com/github/gugyeoj1n/Natural_Language_Processing/blob/main/07_09.ipynb\" target=\"_parent\"><img src=\"https://colab.research.google.com/assets/colab-badge.svg\" alt=\"Open In Colab\"/></a>"
      ]
    },
    {
      "cell_type": "code",
      "execution_count": null,
      "metadata": {
        "id": "IV1H2ZbRHo21"
      },
      "outputs": [],
      "source": [
        "import tensorflow as tf\n",
        "\n",
        "class LinearRegression(tf.keras.Model) :\n",
        "  def __init__(self) :\n",
        "    super(LinearRegression, self).__init__()\n",
        "    self.linear_layer = tf.keras.layers.Dense(1, input_dim=1, activation='linear')\n",
        "\n",
        "  def call(self, x) :\n",
        "    y_pred = self.linear_layer(x)\n",
        "    return y_pred\n",
        "\n",
        "x = [1, 2, 3, 4, 5, 6, 7, 8, 9]\n",
        "y = [11, 22, 33, 44, 55, 66, 77, 88, 99]\n",
        "\n",
        "model = LinearRegression()\n",
        "model.compile(optimizer=sgd, loss='mse', metrics=['mse'])\n",
        "model.fit(x, y, epochs=300)\n",
        "\n",
        "# 1. Sequential API\n",
        "# 장점 : 간단하게 층을 쌓을 수 있다\n",
        "# 단점 : 다수의 입출력을 요구하는 모델, 층 간 연산이 필요한 모델에 부적합하다\n",
        "#\n",
        "# 2. Functional API\n",
        "# 장점 : 복잡한 모델을 구현할 수 있다\n",
        "# 단점 : inputs 에 입력 크기를 지정해야 한다\n",
        "#\n",
        "# 3. Subclassing API\n",
        "# 장점 : 기존의 방식을 따르지 않고 모델을 구현할 수 있다\n",
        "# 단점 : 까다롭다"
      ]
    }
  ]
}