{
  "nbformat": 4,
  "nbformat_minor": 0,
  "metadata": {
    "colab": {
      "name": "Untitled20.ipynb",
      "provenance": [],
      "authorship_tag": "ABX9TyNfBuAq04lsDGHU7TgKL4Vj",
      "include_colab_link": true
    },
    "kernelspec": {
      "name": "python3",
      "display_name": "Python 3"
    },
    "language_info": {
      "name": "python"
    }
  },
  "cells": [
    {
      "cell_type": "markdown",
      "metadata": {
        "id": "view-in-github",
        "colab_type": "text"
      },
      "source": [
        "<a href=\"https://colab.research.google.com/github/gugyeoj1n/Natural_Language_Processing/blob/main/08_04.ipynb\" target=\"_parent\"><img src=\"https://colab.research.google.com/assets/colab-badge.svg\" alt=\"Open In Colab\"/></a>"
      ]
    },
    {
      "cell_type": "code",
      "execution_count": 13,
      "metadata": {
        "colab": {
          "base_uri": "https://localhost:8080/"
        },
        "id": "fXJMY5WymzgO",
        "outputId": "8f25eb91-4866-44ae-d4e5-1de231052ff1"
      },
      "outputs": [
        {
          "output_type": "stream",
          "name": "stdout",
          "text": [
            "hidden state : [[0.29832578 0.8831607  0.99058133]], shape: (1, 3)\n",
            "hidden state : [[[ 0.9269081  -0.7836607   0.9985517 ]\n",
            "  [ 0.98432666  0.64163715  0.93391585]\n",
            "  [ 0.9306028  -0.8130228  -0.80031705]\n",
            "  [ 0.99924487  0.48107034 -0.73630494]]], shape: (1, 4, 3)\n",
            "hidden states : [[[ 0.8570359   0.01488924  0.7172787 ]\n",
            "  [ 0.04610277 -0.71802986  0.0497513 ]\n",
            "  [ 0.78999573 -0.96518004  0.25274518]\n",
            "  [ 0.10556251 -0.92189056 -0.1744754 ]]], shape: (1, 4, 3)\n",
            "last hidden state : [[ 0.10556251 -0.92189056 -0.1744754 ]], shape: (1, 3)\n"
          ]
        }
      ],
      "source": [
        "import numpy as np\n",
        "import tensorflow as tf\n",
        "from tensorflow.keras.layers import SimpleRNN, LSTM, Bidirectional\n",
        "\n",
        "train_X = [[[0.1, 4.2, 1.5, 1.1, 2.8], [1.0, 3.1, 2.5, 0.7, 1.1], [0.3, 2.1, 1.5, 2.1, 0.1], [2.2, 1.4, 0.5, 0.9, 1.1]]]\n",
        "train_X = np.array(train_X, dtype=np.float32)\n",
        "\n",
        "rnn = SimpleRNN(3)\n",
        "hidden_state = rnn(train_X)\n",
        "\n",
        "print('hidden state : {}, shape: {}'.format(hidden_state, hidden_state.shape))\n",
        "\n",
        "rnn = SimpleRNN(3, return_sequences=True)\n",
        "hidden_state = rnn(train_X)\n",
        "print('hidden state : {}, shape: {}'.format(hidden_state, hidden_state.shape))\n",
        "\n",
        "rnn = SimpleRNN(3, return_sequences=True, return_state=True)\n",
        "hidden_states, last_state = rnn(train_X)\n",
        "print('hidden states : {}, shape: {}'.format(hidden_states, hidden_states.shape))\n",
        "print('last hidden state : {}, shape: {}'.format(last_state, last_state.shape))"
      ]
    }
  ]
}