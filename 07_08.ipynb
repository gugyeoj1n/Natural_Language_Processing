{
  "nbformat": 4,
  "nbformat_minor": 0,
  "metadata": {
    "colab": {
      "name": "Untitled18.ipynb",
      "provenance": [],
      "authorship_tag": "ABX9TyOhe3VxupJSZ4t1hE7PgYEe",
      "include_colab_link": true
    },
    "kernelspec": {
      "name": "python3",
      "display_name": "Python 3"
    },
    "language_info": {
      "name": "python"
    }
  },
  "cells": [
    {
      "cell_type": "markdown",
      "metadata": {
        "id": "view-in-github",
        "colab_type": "text"
      },
      "source": [
        "<a href=\"https://colab.research.google.com/github/gugyeoj1n/Natural_Language_Processing/blob/main/07_08.ipynb\" target=\"_parent\"><img src=\"https://colab.research.google.com/assets/colab-badge.svg\" alt=\"Open In Colab\"/></a>"
      ]
    },
    {
      "cell_type": "code",
      "source": [
        "from tensorflow.keras.models import Model\n",
        "from tensorflow.keras.layers import Input, Dense\n",
        "\n",
        "# 전결합 피드 포워드 신경망\n",
        "inputs = Input(shape=(10,))\n",
        "hidden1 = Dense(64, activation='relu')(inputs)\n",
        "hidden2 = Dense(64, activation='relu')(hidden1)\n",
        "output = Dense(1, activation='sigmoid')(hidden2)\n",
        "\n",
        "model = Model(inputs=inputs, outputs=output)\n",
        "model.compile(optimizer='rmsprop', loss='categorical_crossentropy', metrics=['accuracy'])\n",
        "\n",
        "# 선형 회귀\n",
        "from tensorflow.keras import optimizers\n",
        "\n",
        "x = [1, 2, 3, 4, 5, 6, 7, 8, 9]\n",
        "y = [11, 22, 33, 44, 55, 66, 77, 88, 99]\n",
        "\n",
        "inputs = Input(shape=(1,))\n",
        "output = Dense(1, activation='linear')(inputs)\n",
        "\n",
        "linear_model = Model(inputs=inputs, outputs=output)\n",
        "sgd = optimizers.SGD(lr=0.01)\n",
        "linear_model.compile(optimizer=sgd, loss='mse', metrics=['mse'])\n",
        "linear_model.fit(x, y, epochs=300)\n",
        "\n",
        "# 순환 신경망\n",
        "from tensorflow.keras.layers import LSTM\n",
        "\n",
        "inputs = Input(shape=(50,1))\n",
        "lstm_layer = LSTM(10)(inputs)\n",
        "x = Dense(10, activation='relu')(lstm_layer)\n",
        "output = Dense(1, activation='sigmoid')(x)\n",
        "\n",
        "model = Model(inputs=inputs, outputs=output)"
      ],
      "metadata": {
        "id": "lqfTTbUy0j2l"
      },
      "execution_count": null,
      "outputs": []
    }
  ]
}