{
  "nbformat": 4,
  "nbformat_minor": 0,
  "metadata": {
    "colab": {
      "name": "Untitled15.ipynb",
      "provenance": [],
      "mount_file_id": "1kz1n-JQbvNJ1H4nqil4ZzxX4vfhQrCv9",
      "authorship_tag": "ABX9TyNnUjdnqnBgULpPBFZLyEPf",
      "include_colab_link": true
    },
    "kernelspec": {
      "name": "python3",
      "display_name": "Python 3"
    },
    "language_info": {
      "name": "python"
    }
  },
  "cells": [
    {
      "cell_type": "markdown",
      "metadata": {
        "id": "view-in-github",
        "colab_type": "text"
      },
      "source": [
        "<a href=\"https://colab.research.google.com/github/gugyeoj1n/Natural_Language_Processing/blob/main/05_01.ipynb\" target=\"_parent\"><img src=\"https://colab.research.google.com/assets/colab-badge.svg\" alt=\"Open In Colab\"/></a>"
      ]
    },
    {
      "cell_type": "code",
      "source": [
        "import numpy as np\n",
        "from numpy import dot\n",
        "from numpy.linalg import norm\n",
        "\n",
        "def cos_sim(A, B) :\n",
        "  return dot(A, B) / (norm(A) * norm(B))\n",
        "\n",
        "doc = np.array([[0, 1, 1, 1], [1, 0, 1, 1], [2, 0, 2, 2]])\n",
        "\n",
        "print(\"1 ? 2 : \", cos_sim(doc[0], doc[1]))\n",
        "print(\"1 ? 3 : \", cos_sim(doc[0], doc[2]))\n",
        "print(\"2 ? 3 : \", cos_sim(doc[1], doc[2]))"
      ],
      "metadata": {
        "id": "fZaETs8VDxfu",
        "colab": {
          "base_uri": "https://localhost:8080/"
        },
        "outputId": "01dcd5bd-13bc-426a-a5fc-f533cf3891e2"
      },
      "execution_count": 2,
      "outputs": [
        {
          "output_type": "stream",
          "name": "stdout",
          "text": [
            "1 ? 2 :  0.6666666666666667\n",
            "1 ? 3 :  0.6666666666666667\n",
            "2 ? 3 :  1.0000000000000002\n"
          ]
        }
      ]
    },
    {
      "cell_type": "code",
      "source": [
        "from sklearn.feature_extraction.text import TfidfVectorizer\n",
        "from sklearn.metrics.pairwise import cosine_similarity\n",
        "import pandas as pd\n",
        "\n",
        "data = pd.read_csv('/content/drive/MyDrive/NLP_colab/archive/movies_metadata.csv', low_memory=False)\n",
        "data = data.head(20000)\n",
        "\n",
        "print(\"Null in overview : \", data['overview'].isnull().sum())\n",
        "\n",
        "data['overview'] = data['overview'].fillna('')\n",
        "\n",
        "tfidf = TfidfVectorizer(stop_words='english')\n",
        "tfidf_matrix = tfidf.fit_transform(data['overview'])\n",
        "print(\"TF-IDF shape : \", tfidf_matrix.shape)\n",
        "\n",
        "cosine_sim = cosine_similarity(tfidf_matrix, tfidf_matrix)\n",
        "print(\"cosine similarity : \", cosine_sim.shape)"
      ],
      "metadata": {
        "colab": {
          "base_uri": "https://localhost:8080/"
        },
        "id": "246327RK4mWk",
        "outputId": "a02c4498-382a-4d6d-c3f2-8202e552d692"
      },
      "execution_count": 9,
      "outputs": [
        {
          "output_type": "stream",
          "name": "stdout",
          "text": [
            "Null in overview :  135\n",
            "TF-IDF shape :  (20000, 47487)\n",
            "cosine similarity :  (20000, 20000)\n"
          ]
        }
      ]
    },
    {
      "cell_type": "code",
      "source": [
        "title_to_idx = dict(zip(data['title'], data.index))\n",
        "print(\"Movie Index : \", title_to_idx[input()])"
      ],
      "metadata": {
        "colab": {
          "base_uri": "https://localhost:8080/"
        },
        "id": "JbkIPbtN6Jj2",
        "outputId": "e9d9b0e8-367b-4d7f-edd0-f413fe5f7ac7"
      },
      "execution_count": 10,
      "outputs": [
        {
          "output_type": "stream",
          "name": "stdout",
          "text": [
            "Father of the Bride Part II\n",
            "Movie Index :  4\n"
          ]
        }
      ]
    },
    {
      "cell_type": "code",
      "source": [
        "def get_recommendations(title, cosine_sim=cosine_sim) :\n",
        "  idx = title_to_idx[title]\n",
        "  sim_scores = list(enumerate(cosine_sim[idx]))\n",
        "  sim_scores = sorted(sim_scores, key=lambda x:x[1], reverse=True)\n",
        "  sim_scores = sim_scores[1:11]\n",
        "  movie_indices = [idx[0] for idx in sim_scores]\n",
        "\n",
        "  return data['title'].iloc[movie_indices]"
      ],
      "metadata": {
        "id": "-OC9pLnu6aKF"
      },
      "execution_count": 11,
      "outputs": []
    },
    {
      "cell_type": "code",
      "source": [
        "print(get_recommendations(\"The Dark Knight Rises\"))"
      ],
      "metadata": {
        "colab": {
          "base_uri": "https://localhost:8080/"
        },
        "id": "mbORyLE_7Wnh",
        "outputId": "43ca744d-ed27-4586-b02b-86510c293dc8"
      },
      "execution_count": 13,
      "outputs": [
        {
          "output_type": "stream",
          "name": "stdout",
          "text": [
            "12481                            The Dark Knight\n",
            "150                               Batman Forever\n",
            "1328                              Batman Returns\n",
            "15511                 Batman: Under the Red Hood\n",
            "585                                       Batman\n",
            "9230          Batman Beyond: Return of the Joker\n",
            "18035                           Batman: Year One\n",
            "19792    Batman: The Dark Knight Returns, Part 1\n",
            "3095                Batman: Mask of the Phantasm\n",
            "10122                              Batman Begins\n",
            "Name: title, dtype: object\n"
          ]
        }
      ]
    }
  ]
}