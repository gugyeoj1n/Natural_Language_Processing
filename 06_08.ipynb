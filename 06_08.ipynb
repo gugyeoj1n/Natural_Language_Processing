{
  "nbformat": 4,
  "nbformat_minor": 0,
  "metadata": {
    "colab": {
      "name": "Untitled15.ipynb",
      "provenance": [],
      "mount_file_id": "1kz1n-JQbvNJ1H4nqil4ZzxX4vfhQrCv9",
      "authorship_tag": "ABX9TyNtSNmOKBa/4/jw4Fuosp2W",
      "include_colab_link": true
    },
    "kernelspec": {
      "name": "python3",
      "display_name": "Python 3"
    },
    "language_info": {
      "name": "python"
    }
  },
  "cells": [
    {
      "cell_type": "markdown",
      "metadata": {
        "id": "view-in-github",
        "colab_type": "text"
      },
      "source": [
        "<a href=\"https://colab.research.google.com/github/gugyeoj1n/Natural_Language_Processing/blob/main/06_08.ipynb\" target=\"_parent\"><img src=\"https://colab.research.google.com/assets/colab-badge.svg\" alt=\"Open In Colab\"/></a>"
      ]
    },
    {
      "cell_type": "code",
      "source": [
        "import numpy as np\n",
        "\n",
        "d = np.array(5)\n",
        "print(\"dimension : \", d.ndim, \"shape : \", d.shape)\n",
        "\n",
        "d = np.array([1, 2, 3, 4])\n",
        "print(\"dimension : \", d.ndim, \"shape : \", d.shape)\n",
        "\n",
        "d = np.array([[1, 2, 3, 4], [5, 6, 7, 8], [9, 10, 11, 12]])\n",
        "print(\"dimension : \", d.ndim, \"shape : \", d.shape)\n",
        "\n",
        "d = np.array([\n",
        "            [[1, 2, 3, 4, 5], [6, 7, 8, 9, 10], [10, 11, 12, 13, 14]],\n",
        "            [[15, 16, 17, 18, 19], [19, 20, 21, 22, 23], [23, 24, 25, 26, 27]]\n",
        "            ])\n",
        "print(\"dimension : \", d.ndim, \"shape : \", d.shape)"
      ],
      "metadata": {
        "colab": {
          "base_uri": "https://localhost:8080/"
        },
        "id": "d10AFqCvNe2N",
        "outputId": "86195bc6-e2f7-483e-e458-d5110d09410b"
      },
      "execution_count": 43,
      "outputs": [
        {
          "output_type": "stream",
          "name": "stdout",
          "text": [
            "dimension :  0 shape :  ()\n",
            "dimension :  1 shape :  (4,)\n",
            "dimension :  2 shape :  (3, 4)\n",
            "dimension :  3 shape :  (2, 3, 5)\n"
          ]
        }
      ]
    }
  ]
}