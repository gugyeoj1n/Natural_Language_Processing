{
  "nbformat": 4,
  "nbformat_minor": 0,
  "metadata": {
    "colab": {
      "name": "Untitled20.ipynb",
      "provenance": [],
      "authorship_tag": "ABX9TyPOOiW+R29SaGUqnAKCGoKm",
      "include_colab_link": true
    },
    "kernelspec": {
      "name": "python3",
      "display_name": "Python 3"
    },
    "language_info": {
      "name": "python"
    }
  },
  "cells": [
    {
      "cell_type": "markdown",
      "metadata": {
        "id": "view-in-github",
        "colab_type": "text"
      },
      "source": [
        "<a href=\"https://colab.research.google.com/github/gugyeoj1n/Natural_Language_Processing/blob/main/08_01.ipynb\" target=\"_parent\"><img src=\"https://colab.research.google.com/assets/colab-badge.svg\" alt=\"Open In Colab\"/></a>"
      ]
    },
    {
      "cell_type": "code",
      "execution_count": 3,
      "metadata": {
        "colab": {
          "base_uri": "https://localhost:8080/"
        },
        "id": "fXJMY5WymzgO",
        "outputId": "b8ea9172-7b69-44f3-e8e1-d239a7fc99f2"
      },
      "outputs": [
        {
          "output_type": "stream",
          "name": "stdout",
          "text": [
            "초기 은닉 상태 :  [0. 0. 0. 0. 0. 0. 0. 0.]\n",
            "모든 시점의 은닉 상태\n",
            "[[0.81245611 0.97862393 0.92773241 0.92454674 0.58757067 0.89873437\n",
            "  0.64153078 0.80640193]\n",
            " [0.99979342 0.9999996  0.99995602 0.99999383 0.99967263 0.99998702\n",
            "  0.99958943 0.99997853]\n",
            " [0.99980393 0.99999938 0.99998758 0.99999556 0.99991062 0.99998847\n",
            "  0.99970033 0.99998543]\n",
            " [0.99996441 0.99999998 0.99999709 0.99999981 0.99995543 0.99999858\n",
            "  0.99992709 0.99999829]\n",
            " [0.99989891 0.99999975 0.99998397 0.99999691 0.99993313 0.99999037\n",
            "  0.9997493  0.99999229]\n",
            " [0.9998113  0.99999968 0.99998479 0.99999288 0.9998814  0.99999677\n",
            "  0.99970473 0.9999849 ]\n",
            " [0.99991748 0.99999995 0.99999711 0.99999956 0.99992979 0.9999984\n",
            "  0.99990657 0.99999558]\n",
            " [0.9999155  0.99999987 0.99998621 0.99999792 0.99992569 0.99999511\n",
            "  0.99986329 0.99999198]\n",
            " [0.99991794 0.99999994 0.99999303 0.99999886 0.9999141  0.99999854\n",
            "  0.99990383 0.99999335]\n",
            " [0.99992282 0.99999987 0.9999919  0.99999906 0.99994194 0.99999224\n",
            "  0.99987754 0.9999941 ]]\n"
          ]
        }
      ],
      "source": [
        "import numpy as np\n",
        "\n",
        "timesteps, input_dim, hidden_units = 10, 4, 8\n",
        "\n",
        "inputs = np.random.random((timesteps, input_dim))\n",
        "hidden_state_t = np.zeros((hidden_units,))\n",
        "\n",
        "print(\"초기 은닉 상태 : \", hidden_state_t)\n",
        "\n",
        "Wx = np.random.random((hidden_units, input_dim))\n",
        "Wh = np.random.random((hidden_units, hidden_units))\n",
        "b = np.random.random((hidden_units,))\n",
        "\n",
        "total_hidden_states = []\n",
        "\n",
        "for input_t in inputs :\n",
        "  output_t = np.tanh(np.dot(Wx, input_t) + np.dot(Wh, hidden_state_t) + b)\n",
        "\n",
        "  total_hidden_states.append(list(output_t))\n",
        "  hidden_state_t = output_t\n",
        "\n",
        "total_hidden_states = np.stack(total_hidden_states, axis = 0) \n",
        "\n",
        "print('모든 시점의 은닉 상태')\n",
        "print(total_hidden_states)"
      ]
    }
  ]
}