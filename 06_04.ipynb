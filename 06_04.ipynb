{
  "nbformat": 4,
  "nbformat_minor": 0,
  "metadata": {
    "colab": {
      "name": "Untitled15.ipynb",
      "provenance": [],
      "mount_file_id": "1kz1n-JQbvNJ1H4nqil4ZzxX4vfhQrCv9",
      "authorship_tag": "ABX9TyNalGQw9MAXz2ycVMKcRkk7",
      "include_colab_link": true
    },
    "kernelspec": {
      "name": "python3",
      "display_name": "Python 3"
    },
    "language_info": {
      "name": "python"
    }
  },
  "cells": [
    {
      "cell_type": "markdown",
      "metadata": {
        "id": "view-in-github",
        "colab_type": "text"
      },
      "source": [
        "<a href=\"https://colab.research.google.com/github/gugyeoj1n/Natural_Language_Processing/blob/main/06_04.ipynb\" target=\"_parent\"><img src=\"https://colab.research.google.com/assets/colab-badge.svg\" alt=\"Open In Colab\"/></a>"
      ]
    },
    {
      "cell_type": "code",
      "source": [
        "import tensorflow as tf\n",
        "\n",
        "w = tf.Variable(2)\n",
        "\n",
        "def f(w) :\n",
        "  return 2 * (w ** 2) + 5\n",
        "\n",
        "with tf.GradientTape() as tape :\n",
        "  z = f(w)\n",
        "\n",
        "gradients = tape.gradient(z, [w])\n",
        "print(gradients)"
      ],
      "metadata": {
        "colab": {
          "base_uri": "https://localhost:8080/"
        },
        "id": "VaYkAMIVAOxW",
        "outputId": "1f107bf3-7aff-4899-c282-1c599aac7772"
      },
      "execution_count": 20,
      "outputs": [
        {
          "output_type": "stream",
          "name": "stdout",
          "text": [
            "<tf.Variable 'Variable:0' shape=() dtype=int32, numpy=2>\n",
            "WARNING:tensorflow:The dtype of the target tensor must be floating (e.g. tf.float32) when calling GradientTape.gradient, got tf.int32\n",
            "WARNING:tensorflow:The dtype of the source tensor must be floating (e.g. tf.float32) when calling GradientTape.gradient, got tf.int32\n",
            "[None]\n"
          ]
        }
      ]
    },
    {
      "cell_type": "code",
      "source": [
        "w, b = tf.Variable(4.0), tf.Variable(1.0)\n",
        "\n",
        "def hypothesis(x) :\n",
        "  return w * x + b\n",
        "\n",
        "def mse_loss(y_pred, y) :\n",
        "  return tf.reduce_mean(tf.square(y_pred - y))\n",
        "\n",
        "x = [1, 2, 3, 4, 5, 6, 7, 8, 9]\n",
        "y = [9, 23, 34, 42, 55, 66, 75, 84, 95]\n",
        "\n",
        "optimizer = tf.optimizers.SGD(0.01)\n",
        "\n",
        "for i in range(301) :\n",
        "  with tf.GradientTape() as tape :\n",
        "    y_pred = hypothesis(x)\n",
        "    cost = mse_loss(y_pred, y)\n",
        "    gradients = tape.gradient(cost, [w, b])\n",
        "    optimizer.apply_gradients(zip(gradients, [w, b]))\n",
        "\n",
        "  if i % 50 == 0 :\n",
        "    print(\"epoch : {:3} | w : {:5.4f} | b : {:5.4} | cost : {:5.6f}\".format(i, w.numpy(), b.numpy(), cost))"
      ],
      "metadata": {
        "colab": {
          "base_uri": "https://localhost:8080/"
        },
        "id": "NjUm06udCtne",
        "outputId": "58348f9f-b883-426d-e69a-0b7e2c6358f7"
      },
      "execution_count": 23,
      "outputs": [
        {
          "output_type": "stream",
          "name": "stdout",
          "text": [
            "epoch :   0 | w : 8.1400 | b : 1.653 | cost : 1355.111084\n",
            "epoch :  50 | w : 10.4087 | b : 1.806 | cost : 2.151106\n",
            "epoch : 100 | w : 10.4350 | b :  1.64 | cost : 2.094498\n",
            "epoch : 150 | w : 10.4564 | b : 1.506 | cost : 2.056989\n",
            "epoch : 200 | w : 10.4738 | b : 1.396 | cost : 2.032140\n",
            "epoch : 250 | w : 10.4880 | b : 1.307 | cost : 2.015670\n",
            "epoch : 300 | w : 10.4995 | b : 1.234 | cost : 2.004759\n"
          ]
        }
      ]
    },
    {
      "cell_type": "code",
      "source": [
        "x_test = [3.5, 6.2, 8.8]\n",
        "\n",
        "print(hypothesis(x_test).numpy())"
      ],
      "metadata": {
        "colab": {
          "base_uri": "https://localhost:8080/"
        },
        "id": "WADHrZV6EEJp",
        "outputId": "22505e87-03a1-4fcf-d070-588af776fcef"
      },
      "execution_count": 25,
      "outputs": [
        {
          "output_type": "stream",
          "name": "stdout",
          "text": [
            "[37.982643 66.33132  93.63006 ]\n"
          ]
        }
      ]
    },
    {
      "cell_type": "code",
      "source": [
        "import numpy as np\n",
        "import matplotlib.pyplot as plt\n",
        "from tensorflow.keras.models import Sequential\n",
        "from tensorflow.keras.layers import Dense\n",
        "from tensorflow.keras import optimizers\n",
        "\n",
        "x = [1, 2, 3, 4, 5, 6, 7, 8, 9]\n",
        "y = [9, 23, 34, 42, 55, 66, 75, 84, 95]\n",
        "\n",
        "model = Sequential()\n",
        "model.add(Dense(1, input_dim=1, activation='linear'))\n",
        "\n",
        "sgd = optimizers.SGD(lr=0.01)\n",
        "\n",
        "model.compile(optimizer=sgd, loss='mse', metrics=['mse'])\n",
        "\n",
        "model.fit(x, y, epochs=300)"
      ],
      "metadata": {
        "id": "1piPKYh5Fmsw"
      },
      "execution_count": null,
      "outputs": []
    },
    {
      "cell_type": "code",
      "source": [
        "plt.plot(x, model.predict(x), 'b', x, y, 'k.')"
      ],
      "metadata": {
        "colab": {
          "base_uri": "https://localhost:8080/",
          "height": 306
        },
        "id": "-PN-SliJGqdq",
        "outputId": "0073c2bb-5041-464c-ca83-eed46dd30981"
      },
      "execution_count": 27,
      "outputs": [
        {
          "output_type": "execute_result",
          "data": {
            "text/plain": [
              "[<matplotlib.lines.Line2D at 0x7f7a03a416d0>,\n",
              " <matplotlib.lines.Line2D at 0x7f7a03a418d0>]"
            ]
          },
          "metadata": {},
          "execution_count": 27
        },
        {
          "output_type": "display_data",
          "data": {
            "text/plain": [
              "<Figure size 432x288 with 1 Axes>"
            ],
            "image/png": "[encoded data removed]"
          },
          "metadata": {
            "needs_background": "light"
          }
        }
      ]
    }
  ]
}