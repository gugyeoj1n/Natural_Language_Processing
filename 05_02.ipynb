{
  "nbformat": 4,
  "nbformat_minor": 0,
  "metadata": {
    "colab": {
      "name": "Untitled15.ipynb",
      "provenance": [],
      "mount_file_id": "1kz1n-JQbvNJ1H4nqil4ZzxX4vfhQrCv9",
      "authorship_tag": "ABX9TyPaL2FPzg5bVkoeIuY9L5t6",
      "include_colab_link": true
    },
    "kernelspec": {
      "name": "python3",
      "display_name": "Python 3"
    },
    "language_info": {
      "name": "python"
    }
  },
  "cells": [
    {
      "cell_type": "markdown",
      "metadata": {
        "id": "view-in-github",
        "colab_type": "text"
      },
      "source": [
        "<a href=\"https://colab.research.google.com/github/gugyeoj1n/Natural_Language_Processing/blob/main/05_02.ipynb\" target=\"_parent\"><img src=\"https://colab.research.google.com/assets/colab-badge.svg\" alt=\"Open In Colab\"/></a>"
      ]
    },
    {
      "cell_type": "code",
      "source": [
        "import numpy as np\n",
        "\n",
        "def dist(x, y) :\n",
        "  return np.sqrt(np.sum((x - y) ** 2))\n",
        "\n",
        "doc1 = np.array((2,3,0,1))\n",
        "doc2 = np.array((1,2,3,1))\n",
        "doc3 = np.array((2,1,2,2))\n",
        "docQ = np.array((1,1,0,1))\n",
        "\n",
        "print('1 ~ Q :',dist(doc1, docQ))\n",
        "print('2 ~ Q :',dist(doc2, docQ))\n",
        "print('3 ~ Q :',dist(doc3, ddocQ))"
      ],
      "metadata": {
        "colab": {
          "base_uri": "https://localhost:8080/"
        },
        "id": "fYoWZxfQ8tx6",
        "outputId": "ec133dbd-23a5-47b1-ddc0-22c8d66d2695"
      },
      "execution_count": 14,
      "outputs": [
        {
          "output_type": "stream",
          "name": "stdout",
          "text": [
            "1 ~ Q : 2.23606797749979\n",
            "2 ~ Q : 3.1622776601683795\n",
            "3 ~ Q : 2.449489742783178\n"
          ]
        }
      ]
    },
    {
      "cell_type": "code",
      "source": [
        "doc1 = \"apple banana everyone like likey watch card holder\"\n",
        "doc2 = \"apple banana coupon passport love you\"\n",
        "\n",
        "tokenized_doc1, tokenized_doc2 = doc1.split(), doc2.split()\n",
        "\n",
        "union = set(tokenized_doc1).union(set(tokenized_doc2))\n",
        "\n",
        "intersection = set(tokenized_doc1).intersection(set(tokenized_doc2))\n",
        "\n",
        "print(\"Jaccard : \", len(intersection) / len(union))"
      ],
      "metadata": {
        "colab": {
          "base_uri": "https://localhost:8080/"
        },
        "id": "RWIbEyKJ9EGC",
        "outputId": "f8165bda-ec17-4888-a898-913527a4f925"
      },
      "execution_count": 16,
      "outputs": [
        {
          "output_type": "stream",
          "name": "stdout",
          "text": [
            "Jaccard :  0.16666666666666666\n"
          ]
        }
      ]
    }
  ]
}